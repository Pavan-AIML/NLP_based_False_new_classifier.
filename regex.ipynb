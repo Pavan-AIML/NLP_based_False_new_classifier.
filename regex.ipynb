{
 "cells": [
  {
   "cell_type": "markdown",
   "metadata": {},
   "source": [
    "### Reguler Expression -: \n",
    "- [Regex_Practice](https://regex101.com/)"
   ]
  },
  {
   "cell_type": "code",
   "execution_count": 3,
   "metadata": {},
   "outputs": [],
   "source": [
    "import re"
   ]
  },
  {
   "cell_type": "markdown",
   "metadata": {},
   "source": [
    "- `r\"[^;-]\"`  -: Here this reguler expression will search for everythign else except ;, - . Here ^ we use to not to look for symbol.\n",
    "- `r\"Note \\d - [^\\n]*\"` -: This will match Note one digit(\\d) hyphen(-) but not a new line and asteric(*) will take teh whole sentence.\n",
    "- `r\"Note \\d - ([^\\n]*)\"` -: Here we use parenthesis to get the group of data.\\n represents the new line."
   ]
  },
  {
   "cell_type": "code",
   "execution_count": 9,
   "metadata": {},
   "outputs": [],
   "source": [
    "info_lines = '''The groceries are not available in the eve of christmas. It will be a very long journey to go and find a shop in FY2024. \n",
    "Still my friend wanted to go there and have the cake that wa really important for him. \n",
    "FY1234 Q1, FY1234 Q3, FY1234 Q4, FY1234 Q9, fy3456 Q3.\n",
    "\n",
    "\n",
    "'''"
   ]
  },
  {
   "cell_type": "code",
   "execution_count": 10,
   "metadata": {},
   "outputs": [],
   "source": [
    "# pattern = r\"[FY\\d{4}]\"\n",
    "pattern = 'FY\\d{4}' # \\d -: for digits and {4} for number 4."
   ]
  },
  {
   "cell_type": "markdown",
   "metadata": {},
   "source": [
    "- Match the pattern FY----{inplace of dash there will be 4 digits.}\n",
    "- Here we can see that the expression is matching."
   ]
  },
  {
   "cell_type": "code",
   "execution_count": 12,
   "metadata": {},
   "outputs": [
    {
     "data": {
      "text/plain": [
       "['FY2024', 'FY1234', 'FY1234', 'FY1234', 'FY1234']"
      ]
     },
     "execution_count": 12,
     "metadata": {},
     "output_type": "execute_result"
    }
   ],
   "source": [
    "matches =[]\n",
    "matches = re.findall(pattern, info_lines)\n",
    "matches"
   ]
  },
  {
   "cell_type": "code",
   "execution_count": 13,
   "metadata": {},
   "outputs": [],
   "source": [
    "pattern_2 = 'FY\\d{4} Q[1-4]' # Here [1-4] is the series from 1-4 digits it will recognize rest it will not.\n",
    "\n"
   ]
  },
  {
   "cell_type": "code",
   "execution_count": 14,
   "metadata": {},
   "outputs": [
    {
     "data": {
      "text/plain": [
       "['FY1234 Q1', 'FY1234 Q3', 'FY1234 Q4']"
      ]
     },
     "execution_count": 14,
     "metadata": {},
     "output_type": "execute_result"
    }
   ],
   "source": [
    "match = []\n",
    "match = re.findall(pattern_2, info_lines)\n",
    "match"
   ]
  },
  {
   "cell_type": "markdown",
   "metadata": {},
   "source": [
    "Flags. ( Here we have considered both the cases lower as well as upper by ignoring the case  `re.IGNORECASE`)\n"
   ]
  },
  {
   "cell_type": "code",
   "execution_count": 18,
   "metadata": {},
   "outputs": [
    {
     "data": {
      "text/plain": [
       "['FY1234 Q1', 'FY1234 Q3', 'FY1234 Q4', 'fy3456 Q3']"
      ]
     },
     "execution_count": 18,
     "metadata": {},
     "output_type": "execute_result"
    }
   ],
   "source": [
    "match_3 = []\n",
    "pattern_3 = 'FY\\d{4} Q[1-4]'\n",
    "match_3 = re.findall(pattern_3, info_lines, flags = re.IGNORECASE)\n",
    "match_3"
   ]
  },
  {
   "cell_type": "markdown",
   "metadata": {},
   "source": []
  }
 ],
 "metadata": {
  "kernelspec": {
   "display_name": "projvenv",
   "language": "python",
   "name": "python3"
  },
  "language_info": {
   "codemirror_mode": {
    "name": "ipython",
    "version": 3
   },
   "file_extension": ".py",
   "mimetype": "text/x-python",
   "name": "python",
   "nbconvert_exporter": "python",
   "pygments_lexer": "ipython3",
   "version": "3.9.21"
  }
 },
 "nbformat": 4,
 "nbformat_minor": 2
}
